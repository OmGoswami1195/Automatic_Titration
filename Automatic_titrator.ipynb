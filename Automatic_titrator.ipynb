{
 "cells": [
  {
   "cell_type": "code",
   "execution_count": 33,
   "id": "860736f9",
   "metadata": {},
   "outputs": [
    {
     "name": "stdout",
     "output_type": "stream",
     "text": [
      "Requirement already satisfied: opencv-python in ./miniforge3/lib/python3.10/site-packages (4.8.0.76)\r\n",
      "Requirement already satisfied: numpy>=1.21.2 in ./miniforge3/lib/python3.10/site-packages (from opencv-python) (1.23.2)\r\n"
     ]
    }
   ],
   "source": [
    "!pip install opencv-python"
   ]
  },
  {
   "cell_type": "code",
   "execution_count": 34,
   "id": "11d9c70d",
   "metadata": {},
   "outputs": [
    {
     "name": "stdout",
     "output_type": "stream",
     "text": [
      "Collecting pafy\n",
      "  Downloading pafy-0.5.5-py2.py3-none-any.whl (35 kB)\n",
      "Installing collected packages: pafy\n",
      "Successfully installed pafy-0.5.5\n"
     ]
    }
   ],
   "source": [
    "!pip install pafy"
   ]
  },
  {
   "cell_type": "code",
   "execution_count": 35,
   "id": "6240706d",
   "metadata": {},
   "outputs": [
    {
     "name": "stdout",
     "output_type": "stream",
     "text": [
      "Collecting youtube-dl\n",
      "  Downloading youtube_dl-2021.12.17-py2.py3-none-any.whl (1.9 MB)\n",
      "\u001b[2K     \u001b[90m━━━━━━━━━━━━━━━━━━━━━━━━━━━━━━━━━━━━━━━━\u001b[0m \u001b[32m1.9/1.9 MB\u001b[0m \u001b[31m2.6 MB/s\u001b[0m eta \u001b[36m0:00:00\u001b[0ma \u001b[36m0:00:01\u001b[0m0m\n",
      "\u001b[?25hInstalling collected packages: youtube-dl\n",
      "Successfully installed youtube-dl-2021.12.17\n"
     ]
    }
   ],
   "source": [
    "!pip install --upgrade youtube-dl"
   ]
  },
  {
   "cell_type": "code",
   "execution_count": 59,
   "id": "271e9e87",
   "metadata": {},
   "outputs": [],
   "source": [
    "import cv2 #OpenCV - main computer vision engine\n",
    "import math\n",
    "import numpy as np\n",
    "import pafy\n",
    "import argparse\n",
    "import sys\n",
    "import glob\n",
    "from datetime import datetime"
   ]
  },
  {
   "cell_type": "code",
   "execution_count": 37,
   "id": "f28c3b26",
   "metadata": {},
   "outputs": [],
   "source": [
    "# libcrypto-1_1-x64.dll\n",
    "# libssl-1_1-x64.dll"
   ]
  },
  {
   "cell_type": "code",
   "execution_count": 60,
   "id": "f440f874",
   "metadata": {},
   "outputs": [],
   "source": [
    "CYAN_D = (106, 21, 70) #Inverted HSV color code of \"the darkest pixel\" of the fuchsia spot CYAN_B = (182, 98, 100) #Inverted HSV color code of \"the brightest pixel\" of the fuchsia spot\n",
    "#Marker at the minimal dispensed volume (top of the burette): T_MARKER_D = (84, 11, 20) #\"the darkest pixel\"\n",
    "T_MARKER_B = (99, 99, 99) #\"the brightest pixel\"\n",
    "VOL_MIN = 31.0 #Minimal volume in mL as read from the burette\n",
    "#Moving free-floating marker \"meniscus\" (in the middle of the burette) M_MARKER_D = (50, 55, 60) #\"the darkest pixel\"\n",
    "M_MARKER_B = (60, 99, 99) #\"the brightest pixel\"\n",
    "#Marker at the maximal dispensed volume (bottom of the burette): B_MARKER_D = (217, 11, 20) #\"the darkest pixel\"\n",
    "B_MARKER_B = (242, 99, 99) #\"the brightest pixel\"\n",
    "VOL_MAX = 50.0 #Maximal volume in mL as read from the burette\n",
    "#Volumetric calibration equation (from EXCEL 'trend line'): #V = 0.9960 Va + 0.0377\n",
    "#Calibration run (Calibration-1):\n",
    "CALIB_V_A = 0.9960\n",
    "CALIB_V_B = 0.0377\n",
    "#Measured area of the fuchsia spot (indicator)\n",
    "AREA_THRESHOLD = 1688 #Area of the fuchsia spot in sq. pixels\n"
   ]
  },
  {
   "cell_type": "code",
   "execution_count": 61,
   "id": "840273e1",
   "metadata": {},
   "outputs": [],
   "source": [
    "#Scale frames\n",
    "FRAME_SCALE = 1.0 #Scale = 0.0...1.0 of frames (smaller value accelerates calculations and reduces resolution of the frame image)\n",
    "#Calibration\n",
    "MODE_C = \"c\" \n",
    "MODE_P = \"p\"\n",
    "#Calibration mode: grab a frame from the source and save it as a \".jpeg\" file\n",
    "#Production run: based on detected marks determine the volume of dispensed titrant and area of the\n",
    "#Source of video/image\n",
    "SOURCE_URL = \"url\" \n",
    "SOURCE_WCAM = \"webcam\"\n",
    "#Name of the data file\n",
    "\n",
    "DATA_FILE_PRE = \"V_A_\"\n",
    "DATA_FILE_EXT = \".txt\"\n",
    "\n",
    "#Output image (complete name with the data-time stamp will be specified below automatically): \n",
    "IMG_FILE_PRE = \"IMG_\" #Output image file prefix\n",
    "IMG_FILE_EXT = \".jpg\" #Output image file extension\n",
    "#Colors of outlining rectangles (RGB) - for visualization only:\n",
    "REC_VU = (0, 0,255) #Minimal dispensed volume marker (top marker) \n",
    "REC_M = (255, 0, 0) #Moving free-floating marker \"meniscus\"\n",
    "REC_VL = ( 0,255, 0) #Maximal dispensed volume marker (bottom marker) \n",
    "REC_IND = (255,255, 0) #the fuchsia indicator spot\n",
    "#Information panel on the image (coordinates in pixels and RGB colors) \n",
    "L_H = 30 #Line height\n",
    "L_M = 30 #Left margin of the text\n",
    "MESSAGE_COLOR = (0,0,0) #Color of the font\n",
    "LINE_1 = (L_M, L_H) #Position on the image of the 1st line\n",
    "LINE_2 = (L_M,2*L_H) # --- \n",
    "LINE_3 = (L_M,3*L_H) # --- \n",
    "LINE_4 = (L_M,4*L_H) # -- \n",
    "LINE_5 = (L_M,5*L_H) # -- \n",
    "LINE_6 = (L_M,6*L_H) # -- \n",
    "LINE_7 = (L_M,7*L_H) # -- \n",
    "LINE_8 = (L_M,8*L_H) # -- \n",
    "LINE_9 = (L_M,9*L_H) # --"
   ]
  },
  {
   "cell_type": "code",
   "execution_count": 62,
   "id": "bbf66185",
   "metadata": {},
   "outputs": [],
   "source": [
    "def HSV_HSV(HSV):\n",
    "    \"\"\"HSV color code conversion from GIMP/Photoshop to CV2 format\"\"\" \n",
    "    (H, S, V) = HSV\n",
    "    return np.array([int(180*H/360),int(255*S/100),int(255*V/100)])"
   ]
  },
  {
   "cell_type": "code",
   "execution_count": 63,
   "id": "34c67d9b",
   "metadata": {},
   "outputs": [],
   "source": [
    "class MRectangle(object):\n",
    "    \"\"\"Rectangle coordinates\"\"\"\n",
    "    def __init__(self, xg, yg, wg, hg): \n",
    "        self.xg = xg\n",
    "        self.yg = yg\n",
    "        self.wg = wg\n",
    "        self.hg = hg"
   ]
  },
  {
   "cell_type": "code",
   "execution_count": 64,
   "id": "90e1751b",
   "metadata": {},
   "outputs": [],
   "source": [
    "class Titrator(object):\n",
    "    def __init__(self):\n",
    "        \"\"\"Initialize with current configuration\"\"\"\n",
    "        print(\"Python:\")\n",
    "        print (sys.version) \n",
    "        print (sys.version_info)\n",
    "        #Generate unique file name for the volume and area date \n",
    "        dt = datetime.now() # current date and time\n",
    "        #Data-time stamp\n",
    "        DT = dt.strftime(\"%m%d%Y_%H%M%S\")\n",
    "        #Script arguments:\n",
    "        ap = argparse.ArgumentParser()\n",
    "        ap.add_argument(\"-m\", \"--mode\", help = \"mode of the run: calibration or production\",default=MODE_P)\n",
    "        ap.add_argument(\"-s\", \"--source\", help = \"input video stream source\", default=SOURCE_URL)\n",
    "        ap.add_argument(\"-i\", \"--input\", help = \"URL or the video, index, or IP of the webcam\") \n",
    "        ap.add_argument(\"-v\", \"--volume\", help = \"input initial volume\", default=VOL_MIN)\n",
    "        args = vars(ap.parse_args())\n",
    "        #Determine mode of the run:\n",
    "        Mode = args[\"mode\"]\n",
    "        self.CalibrationMode = False \n",
    "        if ( Mode == MODE_C ):\n",
    "            self.CalibrationMode = True\n",
    "                         #Name of the output image file\n",
    "        self.ImageFile = IMG_FILE_PRE+DT+IMG_FILE_EXT\n",
    "        #File to save volume and area (if it is not a calibration run)\n",
    "        if ( not self.CalibrationMode):\n",
    "            DataFileName = DATA_FILE_PRE+DT+DATA_FILE_EXT \n",
    "            self.DataFile = open(DataFileName,\"w\")\n",
    "        self.Cap = None\n",
    "        #Determine source of the video stream\n",
    "        Source = args[\"source\"]\n",
    "                         #Source is YouTube\n",
    "        if ( Source == SOURCE_URL ): \n",
    "            self.URL = args[\"input\"]\n",
    "            video_url = pafy.new(self.URL)\n",
    "            #Get the highest resolution available \n",
    "            video_stream = video_url.getbest(preftype=\"mp4\") \n",
    "            self.Cap = cv2.VideoCapture() \n",
    "            self.Cap.open(video_stream.url)\n",
    "            print (\"Source: YouTube URL: \",self.URL)\n",
    "        if ( Source == SOURCE_WCAM ):\n",
    "            Cam = str(args[\"input\"])\n",
    "            self.Cap = cv2.VideoCapture() \n",
    "            self.Cap.open(Cam)\n",
    "            print (\"Source: IP/remote webcam[\",Cam,\"]\")\n",
    "        fps = self.Cap.get(cv2.CAP_PROP_FPS) # Gets the frames per second\n",
    "        #Set desired FPS rate that does not exceeds the stream's fps. Negative fps is not accepted: #self.SkipFrames = int(fps * RATE_OF_FRAME_ANALYSIS)\n",
    "        print(\"Video stream: \",fps,\" FPS\")\n",
    "                         #Calibration data\n",
    "        print(\"Calibration Data:\")\n",
    "        print(\"Treshold area:\", AREA_THRESHOLD, \" px^2\")\n",
    "        #Initial volume of the titrant\n",
    "        self.IniVolume = float(args[\"volume\"])\n",
    "        print(\"Initial volume of the titrant: \",self.IniVolume,\" mL\")\n",
    "        #Volumetric calibration equation\n",
    "        print(\"Volumetric calibration coefficients:\")\n",
    "        print(\"CALIB_V_A: \",CALIB_V_A)\n",
    "        print(\"CALIB_V_A: \",CALIB_V_B,\" mL \")\n",
    "        #Volume of titration solution\n",
    "        \n",
    "        \n",
    "        self.Volume = 0.0\n",
    "        #Area of the indicator spot \n",
    "        self.Area = 0.0\n",
    "        #Is End-Point Reached?\n",
    "        self.EndPointReached = False #Initialize parameters of the \n",
    "        self.EndPointArea = -1 \n",
    "        self.EndPointVolume = -1\n",
    "        self.CyanD = HSV_HSV(CYAN_D) \n",
    "        self.CyanB = HSV_HSV(CYAN_B)\n",
    "        self.TmD = HSV_HSV(T_MARKER_D) \n",
    "        self.TmB = HSV_HSV(T_MARKER_B)\n",
    "        self.MmD = HSV_HSV(M_MARKER_D)\n",
    "        self.MmB = HSV_HSV(M_MARKER_B) \n",
    "        self.BmD = HSV_HSV(B_MARKER_D)\n",
    "        self.BmB = HSV_HSV(B_MARKER_B)\n",
    "#Specify minimal and maximal volume marks:\n",
    "        self.VU = VOL_MIN \n",
    "        self.VL = VOL_MAX \n",
    "        return"
   ]
  },
  {
   "cell_type": "code",
   "execution_count": 65,
   "id": "0d60fce8",
   "metadata": {},
   "outputs": [],
   "source": [
    "def Frame(self):\n",
    "    frame = None \n",
    "    ret = True\n",
    "    ret, frame = self.Cap.read()\n",
    "    if (not ret):\n",
    "        print(\"Can't receive the next frame from the video stream...\") \n",
    "        return ret, frame\n",
    "    if (FRAME_SCALE != 1.0):\n",
    "        (h, w) = frame.shape[:2]\n",
    "        frame = cv2.resize(frame, ( int(w*FRAME_SCALE), int(h*FRAME_SCALE)))\n",
    "    return ret, frame"
   ]
  },
  {
   "cell_type": "code",
   "execution_count": 66,
   "id": "783306f3",
   "metadata": {},
   "outputs": [],
   "source": [
    "def Calibration(self, Frame):\n",
    "    if (self.CalibrationMode): \n",
    "        cv2.imwrite(self.ImageFile, Frame)\n",
    "        return True\n",
    "    return False"
   ]
  },
  {
   "cell_type": "code",
   "execution_count": 67,
   "id": "634a7f24",
   "metadata": {},
   "outputs": [],
   "source": [
    "def GetCalibratedVolume(self,VU, VL, VM):\n",
    "    Ax = VU.xg+VU.wg/2 \n",
    "    Ay = VU.yg+VU.hg\n",
    "    #Moving (free-floating) mark:\n",
    "    Mx = VM.xg+VM.wg/2\n",
    "    #Bottom of the free-floating marker: \n",
    "    My = VM.yg+VM.hg\n",
    "    #Maximal dispensed volume (bottom) mark:\n",
    "    Bx = VL.xg+VL.wg/2 \n",
    "    By = VL.yg\n",
    "    Abs_AB = math.sqrt( (Bx-Ax)**2+(By-Ay)**2 ) \n",
    "    Abs_AM = math.sqrt( (Mx-Ax)**2+(My-Ay)**2 )\n",
    "    if ( (Abs_AB == 0.0) or (Abs_AM == 0.0) ):\n",
    "        Warning = \"Warning: Can't see marker(s)!\"\n",
    "        Volume = 0.0\n",
    "        return (Warning, Volume)\n",
    "    else:\n",
    "        Warning = \"\"\n",
    "        #Compute volume based on vectors AM and AB: \n",
    "        Volume = (self.VL-self.VU)*(Abs_AM/Abs_AB) #Apply the volumetric calibration equation \n",
    "        Volume = Volume*CALIB_V_A+CALIB_V_B\n",
    "        return (Warning, Volume)"
   ]
  },
  {
   "cell_type": "code",
   "execution_count": 68,
   "id": "c9383967",
   "metadata": {},
   "outputs": [],
   "source": [
    "def IdentifyMarker(self, Frame, lower_color, upper_color):\n",
    "    ImageHSV = cv2.cvtColor(Frame, cv2.COLOR_BGR2HSV)\n",
    "    Mask_Marker = cv2.inRange (ImageHSV, lower_color, upper_color)\n",
    "    Cnts_Marker = cv2.findContours(Mask_Marker.copy(),cv2.RETR_EXTERNAL,cv2.CHAIN_APPROX_SIMPLE)[-2]\n",
    "    if len(Cnts_Marker) > 0:\n",
    "        Max_cnts_marker = max(Cnts_Marker, key=cv2.contourArea) \n",
    "        (xg,yg,wg,hg) = cv2.boundingRect(Max_cnts_marker)\n",
    "    else:\n",
    "        #Markers were not found, we don't want to crash just proceeed with zeroes \n",
    "        return MRectangle(0,0,0,0)\n",
    "    return MRectangle(xg,yg,wg,hg)\n"
   ]
  },
  {
   "cell_type": "code",
   "execution_count": 69,
   "id": "f0a1bf81",
   "metadata": {},
   "outputs": [],
   "source": [
    "def GetVolume(self, Frame):\n",
    "    VU = self. IdentifyMarker(Frame, self.TmD, self.TmB) \n",
    "    cv2.rectangle(Frame,(VU.xg,VU.yg),(VU.xg+VU.wg, VU.yg+VU.hg),REC_VU,1)\n",
    "    VL = self. IdentifyMarker(Frame, self.BmD, self.BmB) \n",
    "    cv2.rectangle(Frame,(VL.xg,VL.yg),(VL.xg+VL.wg, VL.yg+VL.hg),REC_VL,1)\n",
    "    VM = self. IdentifyMarker(Frame, self.MmD, self.MmB) \n",
    "    cv2.rectangle(Frame,(VM.xg,VM.yg),(VM.xg+VM.wg, VM.yg+VM.hg),REC_M,1)\n",
    "    (Warning, Volume) = self.GetCalibratedVolume(VU, VL, VM)\n",
    "    return (Warning, Volume)"
   ]
  },
  {
   "cell_type": "code",
   "execution_count": 70,
   "id": "9c8d3e07",
   "metadata": {},
   "outputs": [],
   "source": [
    "def GetArea(self, Frame):\n",
    "    ImageInvRGB = ~Frame\n",
    "    #Convert RGB to HSV\n",
    "    ImageHSV = cv2.cvtColor(ImageInvRGB, cv2.COLOR_BGR2HSV)\n",
    "    Mask = cv2.inRange (ImageHSV, self.CyanD, self.CyanB)\n",
    "    #Find contours that have required color (cyanuchsia)\n",
    "    Cnts = cv2.findContours(Mask.copy(),cv2.RETR_EXTERNAL,cv2.CHAIN_APPROX_SIMPLE)[-2] \n",
    "    Flag = False\n",
    "    #Find contours of spots with fuchsia color\n",
    "    if len(Cnts)>0:\n",
    "        Max_Cnt = max(Cnts, key=cv2.contourArea)\n",
    "        Area = cv2.contourArea(Max_Cnt)\n",
    "        (xg,yg,wg,hg) = cv2.boundingRect(Max_Cnt) \n",
    "        cv2.rectangle(Frame,(xg,yg),(xg+wg, yg+hg),REC_IND,1)\n",
    "    else:\n",
    "        Area = 0.0\n",
    "    return Area"
   ]
  },
  {
   "cell_type": "code",
   "execution_count": 71,
   "id": "8068fbcd",
   "metadata": {},
   "outputs": [],
   "source": [
    "def IsEndPoint(self, Frame, Volume, Area):\n",
    "    if ( Area >= AREA_THRESHOLD ):\n",
    "        if (self.EndPointReached == False):\n",
    "            self.EndPointArea = Area \n",
    "            self.EndPointVolume = Volume \n",
    "            self.EndPointReached = True\n",
    "    if (self.EndPointReached):\n",
    "        self.WriteEndPoint(Frame, self.EndPointVolume, self.EndPointArea)\n",
    "    return self.EndPointReached"
   ]
  },
  {
   "cell_type": "code",
   "execution_count": 72,
   "id": "fa044313",
   "metadata": {},
   "outputs": [],
   "source": [
    "def ImageText(self, Frame, Message, POSITION):\n",
    "    TypeFace = cv2.FONT_HERSHEY_SIMPLEX \n",
    "    TopLeftCornerOfText = POSITION \n",
    "    FontColor = MESSAGE_COLOR\n",
    "    FontScale = 1\n",
    "    LineType = 2\n",
    "    cv2.putText(Frame,Message, TopLeftCornerOfText, TypeFace, FontScale, FontColor, LineType)"
   ]
  },
  {
   "cell_type": "code",
   "execution_count": 73,
   "id": "3c535f7a",
   "metadata": {},
   "outputs": [],
   "source": [
    "def WriteWelcome(self,Frame):\n",
    "    Message = \"Press ESC to exit\"\n",
    "    self.ImageText(Frame, Message, LINE_1)"
   ]
  },
  {
   "cell_type": "code",
   "execution_count": 74,
   "id": "d5e7794d",
   "metadata": {},
   "outputs": [],
   "source": [
    "def WriteWarning(self, Frame, Warning):\n",
    "    self.ImageText(Frame, Warning, LINE_2)"
   ]
  },
  {
   "cell_type": "code",
   "execution_count": 75,
   "id": "2309dad4",
   "metadata": {},
   "outputs": [],
   "source": [
    "def WriteVolume(self, Frame, Volume):\n",
    "#Display volume of the dispensed titrant (if negative due to noise then set to zero):\n",
    "    Vol_Dispensed = max(Volume+VOL_MIN-self.IniVolume, 0.0) \n",
    "    MessageVDisp = \"Vol. Disp.: \"+'{:5.1f}'.format(Vol_Dispensed)+\" mL\" \n",
    "    self.DataFile.write(str(Vol_Dispensed))\n",
    "    self.DataFile.write(\"\\t\") \n",
    "    self.ImageText(Frame, \"\", LINE_3) #Empty line \n",
    "    self.ImageText(Frame, MessageVDisp, LINE_4)"
   ]
  },
  {
   "cell_type": "code",
   "execution_count": 76,
   "id": "ed59ff07",
   "metadata": {},
   "outputs": [],
   "source": [
    "def WriteArea(self, Frame, Area):\n",
    "    Message = \"Area: \"+'{:5d}'.format(int(Area))+\" px^2\" \n",
    "    self.DataFile.write(str(Area)) \n",
    "    self.DataFile.write(\"\\n\")\n",
    "    self.ImageText(Frame, Message, LINE_5)"
   ]
  },
  {
   "cell_type": "code",
   "execution_count": 77,
   "id": "80e7cb98",
   "metadata": {},
   "outputs": [],
   "source": [
    "def WriteEndPoint(self, Frame, Volume, Area):\n",
    "    Vol_Dispensed = Volume+VOL_MIN-self.IniVolume\n",
    "    Message_1 = \"Vol. Disp.: \"+'{:5.1f}'.format(Vol_Dispensed)+\" mL\"\n",
    "    Message_2 = \"Area:  \"+'{:5.1f}'.format(int(Area))+\" px^2\"\n",
    "    self.ImageText(Frame, \"\",LINE_6)\n",
    "    self.ImageText(Frame, \"Endpoint:\",LINE_7)\n",
    "    self.ImageText(Frame, Message_1,LINE_8)\n",
    "    self.ImageText(Frame,Message_2,LINE_9)\n",
    "    cv2.imwrite(self.ImageFile, Frame)\n",
    "    "
   ]
  },
  {
   "cell_type": "code",
   "execution_count": 78,
   "id": "541637e4",
   "metadata": {},
   "outputs": [],
   "source": [
    "def DisplayImage(self, Frame):\n",
    "    cv2.imshow('Frame',Frame)\n",
    "    if (cv2.waitKey(1) == 27): \n",
    "        return True\n",
    "    else:\n",
    "        return False"
   ]
  },
  {
   "cell_type": "code",
   "execution_count": 79,
   "id": "adfe6e86",
   "metadata": {},
   "outputs": [],
   "source": [
    "def Finalize(self):\n",
    "    if self.Cap:\n",
    "        self.Cap.release\n",
    "        cv2.destroyAllWindows()\n",
    "        if ( not self.CalibrationMode):\n",
    "            self.DataFile.close()\n",
    "            print(\"Done.\")\n",
    "            return 0"
   ]
  },
  {
   "cell_type": "code",
   "execution_count": 81,
   "id": "733294ad",
   "metadata": {},
   "outputs": [
    {
     "name": "stdout",
     "output_type": "stream",
     "text": [
      "Python:\n",
      "3.10.10 | packaged by conda-forge | (main, Mar 24 2023, 20:12:31) [Clang 14.0.6 ]\n",
      "sys.version_info(major=3, minor=10, micro=10, releaselevel='final', serial=0)\n"
     ]
    },
    {
     "name": "stderr",
     "output_type": "stream",
     "text": [
      "usage: ipykernel_launcher.py [-h] [-m MODE] [-s SOURCE] [-i INPUT] [-v VOLUME]\n",
      "ipykernel_launcher.py: error: unrecognized arguments: -f /Users/omgoswami/Library/Jupyter/runtime/kernel-ce375939-56f4-426a-a01c-f8b195d355cd.json\n"
     ]
    },
    {
     "ename": "SystemExit",
     "evalue": "2",
     "output_type": "error",
     "traceback": [
      "An exception has occurred, use %tb to see the full traceback.\n",
      "\u001b[0;31mSystemExit\u001b[0m\u001b[0;31m:\u001b[0m 2\n"
     ]
    },
    {
     "name": "stderr",
     "output_type": "stream",
     "text": [
      "/Users/omgoswami/miniforge3/lib/python3.10/site-packages/IPython/core/interactiveshell.py:3516: UserWarning: To exit: use 'exit', 'quit', or Ctrl-D.\n",
      "  warn(\"To exit: use 'exit', 'quit', or Ctrl-D.\", stacklevel=1)\n"
     ]
    }
   ],
   "source": [
    "def main():\n",
    "    T = Titrator()\n",
    "    \n",
    "    while True:\n",
    "        ret, Frame = T.Frame()\n",
    "        \n",
    "        if (not ret):\n",
    "            cv2.waitKey(0)\n",
    "            T.Finalize()\n",
    "            break\n",
    "            \n",
    "        if T.Calibration(Frame):\n",
    "            break\n",
    "            \n",
    "        T.WriteWelcome(Frame)\n",
    "        \n",
    "        (Warning, Volume) = T.GetVolume(Frame)\n",
    "        \n",
    "        Area = T.GetArea(Frame)\n",
    "        \n",
    "        T.WriteWarning(Frame, Warning)\n",
    "        T.WriteVolume(Frame, Volume)\n",
    "        T.WriteArea(Frame, Area)\n",
    "        \n",
    "        T.IsEndPoint(Frame, Volume, Area)\n",
    "        \n",
    "        if T.DisplayImage(Frame):\n",
    "            break\n",
    "                \n",
    "    return 0\n",
    "\n",
    "if __name__ == \"__main__\":\n",
    "    main()"
   ]
  },
  {
   "cell_type": "code",
   "execution_count": null,
   "id": "d1bff1e8",
   "metadata": {},
   "outputs": [],
   "source": []
  }
 ],
 "metadata": {
  "kernelspec": {
   "display_name": "TensorFlow",
   "language": "python",
   "name": "tf_env"
  },
  "language_info": {
   "codemirror_mode": {
    "name": "ipython",
    "version": 3
   },
   "file_extension": ".py",
   "mimetype": "text/x-python",
   "name": "python",
   "nbconvert_exporter": "python",
   "pygments_lexer": "ipython3",
   "version": "3.10.10"
  }
 },
 "nbformat": 4,
 "nbformat_minor": 5
}
